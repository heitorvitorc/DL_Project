{
 "metadata": {
  "language_info": {
   "codemirror_mode": {
    "name": "ipython",
    "version": 3
   },
   "file_extension": ".py",
   "mimetype": "text/x-python",
   "name": "python",
   "nbconvert_exporter": "python",
   "pygments_lexer": "ipython3",
   "version": "3.6.9-final"
  },
  "orig_nbformat": 2,
  "kernelspec": {
   "name": "Python 3.6.9 64-bit",
   "display_name": "Python 3.6.9 64-bit",
   "metadata": {
    "interpreter": {
     "hash": "31f2aee4e71d21fbe5cf8b01ff0e069b9275f58929596ceb00d14d90e3e16cd6"
    }
   }
  }
 },
 "nbformat": 4,
 "nbformat_minor": 2,
 "cells": [
  {
   "cell_type": "code",
   "execution_count": null,
   "metadata": {},
   "outputs": [],
   "source": [
    "from dolfin import *\n",
    "import matplotlib.pyplot as plt\n",
    "import numpy as np"
   ]
  },
  {
   "cell_type": "code",
   "execution_count": null,
   "metadata": {
    "tags": []
   },
   "outputs": [],
   "source": [
    "# Mesh data\n",
    "mesh_path = '/mnt/d/Meshes/'\n",
    "mesh_name = 'Chip_Micronit_14e5Elem'\n",
    "\n",
    "# Load mesh from xml file ~ mesh created with gmsh\n",
    "mesh_xml = Mesh(mesh_path + mesh_name + '.xml')\n",
    "\n",
    "# Print mesh dimension\n",
    "tdim = mesh_xml.topology().dim()\n",
    "print('Mesh dimension: ', tdim)\n",
    "\n",
    "# Print number of vertexes in mesh\n",
    "nvert = len(mesh_xml.coordinates())\n",
    "print(\"Number of vertexes: \", nvert)"
   ]
  },
  {
   "cell_type": "code",
   "execution_count": null,
   "metadata": {},
   "outputs": [],
   "source": [
    "# Load boundaries and subdomains\n",
    "n = FacetNormal(mesh_xml)\n",
    "boundaries = MeshFunction('size_t', mesh_xml,mesh_path + mesh_name + '_facet_region.xml')\n",
    "markers = MeshFunction('size_t', mesh_xml,mesh_path + mesh_name + '_physical_region.xml')\n",
    "ds = Measure('ds', domain=mesh_xml, subdomain_data=boundaries)\n",
    "\n",
    "# Get boundary marks from mesh (created with gmsh)\n",
    "obstacleTags = [1]\n",
    "inletTag = 2\n",
    "outletTag = 3\n",
    "Wall1Tag = 4\n",
    "Wall2Tag = 5\n",
    "fluidTag = 6"
   ]
  },
  {
   "cell_type": "code",
   "execution_count": null,
   "metadata": {},
   "outputs": [],
   "source": [
    "# Pressure Difference\n",
    "# UInlet = 0.5\n",
    "\n",
    "# Fluid Properties\n",
    "rho = 1\n",
    "mu = 1\n",
    "# nu = Constant(0.01)\n",
    "\n",
    "# Boundary conditions for inlet and outlet\n",
    "pInlet = 15000.0    # Pa\n",
    "pOutlet = 0.0   # Pa\n",
    "\n",
    "# Correction factor considering physical etching of the microfluidic device\n",
    "corr_factor = 2e-5 #m ~ chip thickness correction factor/ Quasi-2D state\n",
    "\n",
    "# Mesh Elements\n",
    "# Velocity\n",
    "velocityElementfamily = 'Lagrange'\n",
    "velocityElementOrder = 2\n",
    "# Pressure\n",
    "pressureElementfamily = 'Lagrange'\n",
    "pressureElementOrder = 1"
   ]
  },
  {
   "cell_type": "code",
   "execution_count": null,
   "metadata": {},
   "outputs": [],
   "source": [
    "# Get Element Shape: Triangle, etc...\n",
    "elementShape = mesh_xml.ufl_cell()\n",
    "\n",
    "# Set Mesh Elements\n",
    "Uel = VectorElement(velocityElementfamily, elementShape, velocityElementOrder) # Velocity vector field\n",
    "Pel = FiniteElement(pressureElementfamily, elementShape, pressureElementOrder) # Pressure field\n",
    "UPel = MixedElement([Uel,Pel])"
   ]
  },
  {
   "cell_type": "code",
   "execution_count": null,
   "metadata": {},
   "outputs": [],
   "source": [
    "# Function Spaces: Velocity and Pressure\n",
    "U = VectorFunctionSpace(mesh_xml, velocityElementfamily, velocityElementOrder)\n",
    "P = FunctionSpace(mesh_xml, pressureElementfamily, pressureElementOrder)\n",
    "\n",
    "# Mixed Function Space: Pressure and Velocity\n",
    "W = FunctionSpace(mesh_xml,UPel)"
   ]
  },
  {
   "cell_type": "code",
   "execution_count": null,
   "metadata": {},
   "outputs": [],
   "source": [
    "# Define test functions\n",
    "(v,q) = TestFunctions(W)\n",
    "\n",
    "# Define trial functions\n",
    "w = Function(W)\n",
    "(u,p) = (as_vector((w[0], w[1])), w[2])"
   ]
  },
  {
   "cell_type": "code",
   "execution_count": null,
   "metadata": {},
   "outputs": [],
   "source": [
    "# Apply boundary conditions\n",
    "bc = []\n",
    "# No-slip condition for walls\n",
    "\n",
    "for i in obstacleTags:\n",
    "    bc0 = DirichletBC(W.sub(0), Constant((0.0,0.0)), boundaries, i)\n",
    "    bc.append(bc0)\n",
    "\n",
    "bc.append(DirichletBC(W.sub(0), Constant((0.0,0.0)), boundaries, Wall1Tag))\n",
    "bc.append(DirichletBC(W.sub(0), Constant((0.0,0.0)), boundaries, Wall2Tag))\n",
    "\n",
    "# Inlet and outlet pressure conditions\n",
    "bc.append(DirichletBC(W.sub(1), Constant(pInlet), boundaries, inletTag))\n",
    "bc.append(DirichletBC(W.sub(1), Constant(pOutlet), boundaries, outletTag))\n",
    "\n",
    "# bc = [bc0, bc1, bc2, PInlet, POutlet]"
   ]
  },
  {
   "cell_type": "code",
   "execution_count": null,
   "metadata": {},
   "outputs": [],
   "source": [
    "# Variational form\n",
    "\n",
    "# Linear Momentum Equation\n",
    "    # Inertia Term            # Viscous Term                  # Pressure Term           # Continuity\n",
    "F = inner(grad(u)*u, v)*dx() + nu*inner(grad(u), grad(v))*dx() - div(v)*p*dx() + q*div(u)*dx()\n",
    "\n",
    "dw = TrialFunction(W)"
   ]
  },
  {
   "cell_type": "code",
   "execution_count": null,
   "metadata": {},
   "outputs": [],
   "source": [
    "# Calculate Jacobian Matrix\n",
    "J = derivative(F,w,dw)"
   ]
  },
  {
   "cell_type": "code",
   "execution_count": null,
   "metadata": {},
   "outputs": [],
   "source": [
    "# Problem and Solver definitions\n",
    "nsproblem = NonlinearVariationalProblem(F, w, bc, J)\n",
    "solver = NonlinearVariationalSolver(nsproblem)"
   ]
  },
  {
   "cell_type": "code",
   "execution_count": null,
   "metadata": {},
   "outputs": [],
   "source": [
    "# Solve problem\n",
    "solver.solve()\n",
    "u,p=split(w)"
   ]
  },
  {
   "cell_type": "code",
   "execution_count": null,
   "metadata": {},
   "outputs": [],
   "source": [
    "# Crop dataset in a N x M grid and bundle the patches in a [mesh, vel, pressure] file\n",
    "# (If dataset is converted into numpy array format, save using Pickle)\n",
    "# Save dataset\n",
    "from dl_utils import save_data\n",
    "save_data(mesh_xml, t, u, p, path)"
   ]
  }
 ]
}